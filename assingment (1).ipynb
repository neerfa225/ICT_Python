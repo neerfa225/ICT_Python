{
 "cells": [
  {
   "cell_type": "code",
   "execution_count": 3,
   "id": "37151d97-dce0-472b-aa48-2a7d4e68f42b",
   "metadata": {},
   "outputs": [
    {
     "name": "stdout",
     "output_type": "stream",
     "text": [
      "[500, 400, 300, 200, 100]\n"
     ]
    }
   ],
   "source": [
    "#SECTION1\n",
    "#2.program code to reverse a given list\n",
    "list1=[100,200,300,400,500]\n",
    "list1.reverse()\n",
    "list1\n",
    "print(list1)"
   ]
  },
  {
   "cell_type": "code",
   "execution_count": 5,
   "id": "1c6856f1-6095-47b9-a1b7-e58fde191549",
   "metadata": {},
   "outputs": [
    {
     "name": "stdin",
     "output_type": "stream",
     "text": [
      "enter  the number 3\n",
      "enter  the number 4\n"
     ]
    },
    {
     "name": "stdout",
     "output_type": "stream",
     "text": [
      "the greatest number is 4\n"
     ]
    }
   ],
   "source": [
    "#3.max of two numbers\n",
    "a=int(input(\"enter  the number\"))\n",
    "b=int(input(\"enter  the number\"))\n",
    "if(a>b):\n",
    "    print(\"the greatest number is \",a)\n",
    "else:\n",
    "  print(\"the greatest number is\",b)\n",
    "    \n",
    "\n"
   ]
  },
  {
   "cell_type": "code",
   "execution_count": 7,
   "id": "83547b5b-0686-4952-93ac-c73c598f6c18",
   "metadata": {},
   "outputs": [
    {
     "name": "stdout",
     "output_type": "stream",
     "text": [
      "the square of 5 is 25\n"
     ]
    }
   ],
   "source": [
    "#4.Python program to find square of 5\n",
    "a=5*5\n",
    "print(\"the square of 5 is\",a)\n"
   ]
  },
  {
   "cell_type": "code",
   "execution_count": 10,
   "id": "8f6150ce-1334-43af-87a1-504916559b48",
   "metadata": {},
   "outputs": [
    {
     "name": "stdout",
     "output_type": "stream",
     "text": [
      "Current date:  2022-12-11\n",
      "Current year: 2022\n",
      "Current month: 12\n",
      "Current day: 11\n"
     ]
    }
   ],
   "source": [
    "#SECTION2\n",
    "#6.Python prgm to print current year,month,day\n",
    "from datetime import date\n",
    "todays_date = date.today()\n",
    "print(\"Current date: \", todays_date)\n",
    "print(\"Current year:\", todays_date.year)\n",
    "print(\"Current month:\", todays_date.month)\n",
    "print(\"Current day:\", todays_date.day)"
   ]
  },
  {
   "cell_type": "code",
   "execution_count": 3,
   "id": "153c55e6-6017-42eb-a2e4-f4297cb9a84a",
   "metadata": {},
   "outputs": [
    {
     "name": "stdin",
     "output_type": "stream",
     "text": [
      "Enter a string\n",
      " hey\n"
     ]
    },
    {
     "name": "stdout",
     "output_type": "stream",
     "text": [
      "hy\n"
     ]
    }
   ],
   "source": [
    "#10.prgm to accept a string from user and display charecter that are present at even index number\n",
    "str = input(\"Enter a string\\n\")\n",
    "# create a string with characters at multiples of 2\n",
    "modified_string = str[::2]\n",
    "print(modified_string)"
   ]
  },
  {
   "cell_type": "code",
   "execution_count": 2,
   "id": "3e469aed-e33a-4f88-8e01-047121dfde9e",
   "metadata": {},
   "outputs": [
    {
     "name": "stdout",
     "output_type": "stream",
     "text": [
      "[20, 60, 30]\n"
     ]
    }
   ],
   "source": [
    "#9.display all duplicates item in list given\n",
    "list1=[10,20,60,30,20,40,30,60,70,80]\n",
    "a = []  \n",
    "for b in list1:\n",
    "     c=list1.count(b)\n",
    "     \n",
    "     if c > 1:\n",
    " \n",
    "        if a.count(b) == 0:  \n",
    " \n",
    "            a.append(b)\n",
    " \n",
    "print(a)"
   ]
  },
  {
   "cell_type": "code",
   "execution_count": 39,
   "id": "7e7fb2c5-879b-4e2d-976a-99ce61776de4",
   "metadata": {},
   "outputs": [
    {
     "name": "stdout",
     "output_type": "stream",
     "text": [
      "[5, [10, 15, [20, 25, [30, 3500], 40], 45], 50]\n"
     ]
    }
   ],
   "source": [
    "#SECTION3\n",
    "#12.modify elements of nested list inside following list\n",
    "#sample input:list1=[5,[10,15,[20,25,[30,35],40],45],50] change the elemnt 35 to 3500\n",
    "list1=[5,[10,15,[20,25,[30,35],40],45],50]\n",
    "list1[1][2][2][1]=3500\n",
    "print(list1)"
   ]
  },
  {
   "cell_type": "code",
   "execution_count": null,
   "id": "1c8330e0-053a-4e68-9e39-3c35c0ec6687",
   "metadata": {},
   "outputs": [
    {
     "name": "stdin",
     "output_type": "stream",
     "text": [
      "enter the string hello@123\n"
     ]
    },
    {
     "name": "stdout",
     "output_type": "stream",
     "text": [
      "h\n",
      "e\n",
      "l\n",
      "l\n",
      "o\n"
     ]
    }
   ],
   "source": [
    "#13.program to display only alphabets from a string\n",
    "str=input(\"enter the string\")\n",
    "leng=len(str)\n",
    "n=0\n",
    "while n<len(str):\n",
    "    if str[n].isalpha():\n",
    "        print(str[n])\n",
    "        n+=1\n",
    "    \n"
   ]
  },
  {
   "cell_type": "code",
   "execution_count": 19,
   "id": "2105e290-db58-4f82-b88a-5067373d01af",
   "metadata": {},
   "outputs": [
    {
     "name": "stdout",
     "output_type": "stream",
     "text": [
      " 1.degree to farenheit\n",
      "  2.farenheit to degree\n"
     ]
    },
    {
     "name": "stdin",
     "output_type": "stream",
     "text": [
      "enter the choice 2\n",
      "enter the farenheit 5\n"
     ]
    },
    {
     "name": "stdout",
     "output_type": "stream",
     "text": [
      "the temperature in degree -15.0\n"
     ]
    }
   ],
   "source": [
    "\n",
    "#15.program to convert degree to farenheit and vice versa\n",
    "    print(\" 1.degree to farenheit\\n  2.farenheit to degree\")\n",
    "\n",
    "    ch=int(input(\"enter the choice\"))\n",
    "\n",
    "    if ch==1:\n",
    "     degree=int(input(\"enter the degree\"))\n",
    "     far=(degree*1.8)+32\n",
    "     print(\"the temperature in farenheit is\",far)\n",
    "\n",
    "    elif ch==2:\n",
    "    \n",
    "     far=int(input(\"enter the farenheit\"))\n",
    "     degree=(far-32)/1.8\n",
    "     print(\"the temperature in degree\",degree)\n",
    "    \n",
    "    else:\n",
    "        print(\"invalid\")\n"
   ]
  },
  {
   "cell_type": "code",
   "execution_count": null,
   "id": "26908edd-3dda-4379-9e3f-8eb300b9d211",
   "metadata": {},
   "outputs": [],
   "source": []
  }
 ],
 "metadata": {
  "kernelspec": {
   "display_name": "Python 3 (ipykernel)",
   "language": "python",
   "name": "python3"
  },
  "language_info": {
   "codemirror_mode": {
    "name": "ipython",
    "version": 3
   },
   "file_extension": ".py",
   "mimetype": "text/x-python",
   "name": "python",
   "nbconvert_exporter": "python",
   "pygments_lexer": "ipython3",
   "version": "3.9.13"
  }
 },
 "nbformat": 4,
 "nbformat_minor": 5
}
